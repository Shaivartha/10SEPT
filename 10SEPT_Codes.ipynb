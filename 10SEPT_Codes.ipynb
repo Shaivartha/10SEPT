{
  "nbformat": 4,
  "nbformat_minor": 0,
  "metadata": {
    "colab": {
      "provenance": [],
      "authorship_tag": "ABX9TyOoGydWKMn4jD7RVKz2ABsW",
      "include_colab_link": true
    },
    "kernelspec": {
      "name": "python3",
      "display_name": "Python 3"
    },
    "language_info": {
      "name": "python"
    }
  },
  "cells": [
    {
      "cell_type": "markdown",
      "metadata": {
        "id": "view-in-github",
        "colab_type": "text"
      },
      "source": [
        "<a href=\"https://colab.research.google.com/github/Shaivartha/10SEPT_Codes/blob/main/10SEPT_Codes.ipynb\" target=\"_parent\"><img src=\"https://colab.research.google.com/assets/colab-badge.svg\" alt=\"Open In Colab\"/></a>"
      ]
    },
    {
      "cell_type": "code",
      "execution_count": null,
      "metadata": {
        "colab": {
          "base_uri": "https://localhost:8080/"
        },
        "id": "Bk7xj736TKym",
        "outputId": "3a3846da-fc50-4680-9a8b-bb3a562f1697"
      },
      "outputs": [
        {
          "output_type": "stream",
          "name": "stdout",
          "text": [
            "What's your age? 21\n",
            "21\n"
          ]
        }
      ],
      "source": [
        "# getting user input\n",
        "\n",
        "age = 0\n",
        "age = int(input(\"What's your age? \"))\n",
        "print(age)"
      ]
    },
    {
      "cell_type": "code",
      "source": [
        "# calculating the simple interest\n",
        "\n",
        "principal = 10000\n",
        "ri = 8\n",
        "si = (principal*ri)/100\n",
        "print(si)"
      ],
      "metadata": {
        "colab": {
          "base_uri": "https://localhost:8080/"
        },
        "id": "liBDbSONTlvH",
        "outputId": "efedae00-4358-4526-a055-6280de9b8925"
      },
      "execution_count": null,
      "outputs": [
        {
          "output_type": "stream",
          "name": "stdout",
          "text": [
            "800.0\n"
          ]
        }
      ]
    },
    {
      "cell_type": "code",
      "source": [
        "# to check the given year is a leap year\n",
        "\n",
        "year  = int(input(\"enter the year: \"))\n",
        "if ((year %4 == 0) and (year%400 == 0)):\n",
        "  print(year, \"is a leap year!!\")\n",
        "else:\n",
        "  print(year, \"is not a leap year!!\")"
      ],
      "metadata": {
        "colab": {
          "base_uri": "https://localhost:8080/"
        },
        "id": "ZbajOqtRT-HA",
        "outputId": "2df9f586-71b1-4fb8-97e8-0168c393025b"
      },
      "execution_count": null,
      "outputs": [
        {
          "output_type": "stream",
          "name": "stdout",
          "text": [
            "enter the year: 1700\n",
            "1700 is not a leap year!!\n"
          ]
        }
      ]
    },
    {
      "cell_type": "code",
      "source": [
        "# fibonacci correct data transfer\n",
        "\n",
        "a,b = 0,1\n",
        "\n",
        "n = int(input(\"the number of elements in a series \"))\n",
        "\n",
        "while(n>0):\n",
        "  print(a, \" \")\n",
        "  a,b = b,a+b\n",
        "  n = n-1\n"
      ],
      "metadata": {
        "colab": {
          "base_uri": "https://localhost:8080/"
        },
        "id": "aPmcHsHNW9IS",
        "outputId": "2c7849d4-5b67-46e1-83fc-87e77df20b3c"
      },
      "execution_count": null,
      "outputs": [
        {
          "output_type": "stream",
          "name": "stdout",
          "text": [
            "the number of elements in a series 10\n",
            "0  \n",
            "1  \n",
            "1  \n",
            "2  \n",
            "3  \n",
            "5  \n",
            "8  \n",
            "13  \n",
            "21  \n",
            "34  \n"
          ]
        }
      ]
    },
    {
      "cell_type": "code",
      "source": [
        "# fibonacci wrong data transfer\n",
        "\n",
        "a,b = 0,1\n",
        "\n",
        "n = int(input(\"the number of elements in a series \"))\n",
        "\n",
        "while(n>0):\n",
        "  print(a, \" \")\n",
        "  a = b\n",
        "  b = a+b\n",
        "  n = n-1"
      ],
      "metadata": {
        "colab": {
          "base_uri": "https://localhost:8080/"
        },
        "id": "G87iYKMgXkYm",
        "outputId": "b575ceec-4263-4121-ca9a-5b21642437fa"
      },
      "execution_count": null,
      "outputs": [
        {
          "output_type": "stream",
          "name": "stdout",
          "text": [
            "the number of elements in a series 10\n",
            "0  \n",
            "1  \n",
            "2  \n",
            "4  \n",
            "8  \n",
            "16  \n",
            "32  \n",
            "64  \n",
            "128  \n",
            "256  \n"
          ]
        }
      ]
    },
    {
      "cell_type": "code",
      "source": [
        "# finding the factorial of a given number using Recursive function\n",
        "\n",
        "def fact(n):\n",
        "  if((n==1) or (n==0)):\n",
        "    return 1\n",
        "  else:\n",
        "    return n*fact(n-1)\n",
        "\n",
        "n = int(input(\"enter the number: \"))\n",
        "result = fact(n)\n",
        "print(result)"
      ],
      "metadata": {
        "colab": {
          "base_uri": "https://localhost:8080/"
        },
        "id": "0ica9uI9Ypd6",
        "outputId": "a1aca923-c2a7-410e-82bd-fb122177a494"
      },
      "execution_count": null,
      "outputs": [
        {
          "output_type": "stream",
          "name": "stdout",
          "text": [
            "enter the number: 5\n",
            "120\n"
          ]
        }
      ]
    }
  ]
}